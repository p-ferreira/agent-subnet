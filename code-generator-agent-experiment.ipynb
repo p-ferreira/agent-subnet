{
 "cells": [
  {
   "cell_type": "markdown",
   "metadata": {},
   "source": [
    "## Task description:\n"
   ]
  },
  {
   "cell_type": "code",
   "execution_count": 2,
   "metadata": {},
   "outputs": [],
   "source": [
    "requirements = \"\"\"Requirements:\n",
    "I need a single-page application with a header, followed by a section with a digital clock and a footer:\n",
    "- The header should contain the text: \"Hello from the agent-metaverse side! Here is the result of my first experiment:\"\n",
    "- The clock section should be centrally aligned and contain a digital clock that updates every second. The background color of the div should be black and the text color should be white.\n",
    "- The footer should contain the text: \"Powered by synapse labs\" in font 14px, italic, and color black.\n",
    "\"\"\""
   ]
  },
  {
   "cell_type": "markdown",
   "metadata": {},
   "source": [
    "## Validator: Project manager head\n",
    "Responsible for:\n",
    "- generating a task plan\n",
    "- breaking the task plan into structured actions of (description, acceptance criteria)"
   ]
  },
  {
   "cell_type": "code",
   "execution_count": 4,
   "metadata": {},
   "outputs": [
    {
     "data": {
      "text/plain": [
       "AIMessage(content='Task 1: Create a Single-Page Application\\n- Task Description: Set up a new single-page application using your preferred framework (React, Angular, Vue, etc.). The application should have a basic structure with a header, a main section, and a footer.\\n- Acceptance Criteria: The application runs successfully without errors and displays a blank page with a header, main section, and footer.\\n\\nTask 2: Add Text to Header\\n- Task Description: Add the text \"Hello from the agent-metaverse side! Here is the result of my first experiment:\" to the header of the application.\\n- Acceptance Criteria: The specified text is visible in the header of the application.\\n\\nTask 3: Create a Digital Clock\\n- Task Description: In the main section of the application, create a digital clock that updates every second. The clock should be centrally aligned.\\n- Acceptance Criteria: A digital clock is visible in the main section of the application, updates every second, and is centrally aligned.\\n\\nTask 4: Style the Clock Section\\n- Task Description: Style the div containing the digital clock. The background color should be black and the text color should be white.\\n- Acceptance Criteria: The div containing the digital clock has a black background and the clock text is white.\\n\\nTask 5: Add Text to Footer\\n- Task Description: Add the text \"Powered by synapse labs\" to the footer of the application. The text should be 14px, italic, and black.\\n- Acceptance Criteria: The specified text is visible in the footer of the application, is 14px in size, italic, and black.')"
      ]
     },
     "execution_count": 4,
     "metadata": {},
     "output_type": "execute_result"
    }
   ],
   "source": [
    "import os\n",
    "import openai\n",
    "from langchain.prompts import ChatPromptTemplate\n",
    "from langchain.chat_models import ChatOpenAI\n",
    "from dotenv import load_dotenv, find_dotenv\n",
    "\n",
    "_ = load_dotenv(find_dotenv()) \n",
    "openai.api_key = os.environ['OPENAI_API_KEY']\n",
    "\n",
    "project_plan_template = \"\"\"\n",
    "You are a professional project manager; the goal is to break down the list of requirements in triple backticks into tasks to be given to a software engineer.\n",
    "Your tasks should contain:\n",
    "- task description: The work that the programmer will need to perform\n",
    "- acceptance criteria: What is the acceptance criteria to define the success of the task to be performed\n",
    "\"\"\"\n",
    "\n",
    "prompt = ChatPromptTemplate.from_messages([\n",
    "    (\"system\", project_plan_template),\n",
    "    (\"user\", \"{input}\")\n",
    "])\n",
    "\n",
    "model = ChatOpenAI(model_name=\"gpt-4\", temperature=0)\n",
    "\n",
    "project_plan_generation_chain = prompt | model\n",
    "\n",
    "project_plan = project_plan_generation_chain.invoke({\"input\": requirements})\n",
    "project_plan"
   ]
  },
  {
   "cell_type": "code",
   "execution_count": 5,
   "metadata": {},
   "outputs": [
    {
     "name": "stdout",
     "output_type": "stream",
     "text": [
      "Task 1: Create a Single-Page Application\n",
      "- Task Description: Set up a new single-page application using your preferred framework (React, Angular, Vue, etc.). The application should have a basic structure with a header, a main section, and a footer.\n",
      "- Acceptance Criteria: The application runs successfully without errors and displays a blank page with a header, main section, and footer.\n",
      "\n",
      "Task 2: Add Text to Header\n",
      "- Task Description: Add the text \"Hello from the agent-metaverse side! Here is the result of my first experiment:\" to the header of the application.\n",
      "- Acceptance Criteria: The specified text is visible in the header of the application.\n",
      "\n",
      "Task 3: Create a Digital Clock\n",
      "- Task Description: In the main section of the application, create a digital clock that updates every second. The clock should be centrally aligned.\n",
      "- Acceptance Criteria: A digital clock is visible in the main section of the application, updates every second, and is centrally aligned.\n",
      "\n",
      "Task 4: Style the Clock Section\n",
      "- Task Description: Style the div containing the digital clock. The background color should be black and the text color should be white.\n",
      "- Acceptance Criteria: The div containing the digital clock has a black background and the clock text is white.\n",
      "\n",
      "Task 5: Add Text to Footer\n",
      "- Task Description: Add the text \"Powered by synapse labs\" to the footer of the application. The text should be 14px, italic, and black.\n",
      "- Acceptance Criteria: The specified text is visible in the footer of the application, is 14px in size, italic, and black.\n"
     ]
    }
   ],
   "source": [
    "print(project_plan.content)"
   ]
  },
  {
   "cell_type": "code",
   "execution_count": 6,
   "metadata": {},
   "outputs": [],
   "source": [
    "from pydantic import BaseModel, Field\n",
    "from typing import List\n",
    "\n",
    "class Task(BaseModel):\n",
    "    \"\"\"A task to be performed by a software engineer, containing a description and acceptance criteria\"\"\"\n",
    "    description: str = Field(description=\"The descrption of the task to be performed\")\n",
    "    acceptance_criteria: str = Field(description=\"The acceptance criteria to define the success of the task to be performed\")\n",
    "\n",
    "class ProjectPlan(BaseModel):\n",
    "    \"\"\"The project plan of a software engineer sprint, defined by the raw plain text of the initial rationale and the list of tasks to be performed\"\"\"\n",
    "    plan: str = \"A full copy of the original prompt used to generate the task plan\"\n",
    "    tasks: List[Task] = Field(description=\"The list of tasks to be performed\")"
   ]
  },
  {
   "cell_type": "code",
   "execution_count": 7,
   "metadata": {},
   "outputs": [
    {
     "data": {
      "text/plain": [
       "ProjectPlan(plan='Task 1: Create a Single-Page Application\\n- Task Description: Set up a new single-page application using your preferred framework (React, Angular, Vue, etc.). The application should have a basic structure with a header, a main section, and a footer.\\n- Acceptance Criteria: The application runs successfully without errors and displays a blank page with a header, main section, and footer.\\n\\nTask 2: Add Text to Header\\n- Task Description: Add the text \"Hello from the agent-metaverse side! Here is the result of my first experiment:\" to the header of the application.\\n- Acceptance Criteria: The specified text is visible in the header of the application.\\n\\nTask 3: Create a Digital Clock\\n- Task Description: In the main section of the application, create a digital clock that updates every second. The clock should be centrally aligned.\\n- Acceptance Criteria: A digital clock is visible in the main section of the application, updates every second, and is centrally aligned.\\n\\nTask 4: Style the Clock Section\\n- Task Description: Style the div containing the digital clock. The background color should be black and the text color should be white.\\n- Acceptance Criteria: The div containing the digital clock has a black background and the clock text is white.\\n\\nTask 5: Add Text to Footer\\n- Task Description: Add the text \"Powered by synapse labs\" to the footer of the application. The text should be 14px, italic, and black.\\n- Acceptance Criteria: The specified text is visible in the footer of the application, is 14px in size, italic, and black.', tasks=[Task(description='Set up a new single-page application using your preferred framework (React, Angular, Vue, etc.). The application should have a basic structure with a header, a main section, and a footer.', acceptance_criteria='The application runs successfully without errors and displays a blank page with a header, main section, and footer.'), Task(description='Add the text \"Hello from the agent-metaverse side! Here is the result of my first experiment:\" to the header of the application.', acceptance_criteria='The specified text is visible in the header of the application.'), Task(description='In the main section of the application, create a digital clock that updates every second. The clock should be centrally aligned.', acceptance_criteria='A digital clock is visible in the main section of the application, updates every second, and is centrally aligned.'), Task(description='Style the div containing the digital clock. The background color should be black and the text color should be white.', acceptance_criteria='The div containing the digital clock has a black background and the clock text is white.'), Task(description='Add the text \"Powered by synapse labs\" to the footer of the application. The text should be 14px, italic, and black.', acceptance_criteria='The specified text is visible in the footer of the application, is 14px in size, italic, and black.')])"
      ]
     },
     "execution_count": 7,
     "metadata": {},
     "output_type": "execute_result"
    }
   ],
   "source": [
    "from langchain.utils.openai_functions import convert_pydantic_to_openai_function\n",
    "from langchain.output_parsers.openai_functions import JsonOutputFunctionsParser\n",
    "\n",
    "task_extraction_functions = [convert_pydantic_to_openai_function(ProjectPlan)]\n",
    "task_extraction_model = model.bind(functions=task_extraction_functions, function_call={\"name\" : \"ProjectPlan\"})\n",
    "\n",
    "task_organization_prompt = ChatPromptTemplate.from_messages([\n",
    "    (\"system\", \"Extract the project plan alogside the tasks structured in task description and acceptance criteria, do not guess or invent information.\"),\n",
    "    (\"human\", \"{project_plan}\")\n",
    "])\n",
    "\n",
    "task_organization_chain = task_organization_prompt | task_extraction_model | JsonOutputFunctionsParser(keyname=\"ProjectPlan\")\n",
    "\n",
    "raw_project_plan = task_organization_chain.invoke({\"project_plan\": project_plan})\n",
    "raw_project_plan['plan'] = project_plan.content\n",
    "\n",
    "mapped_project_plan = ProjectPlan(**raw_project_plan)\n",
    "mapped_project_plan"
   ]
  },
  {
   "cell_type": "code",
   "execution_count": 8,
   "metadata": {},
   "outputs": [
    {
     "name": "stdout",
     "output_type": "stream",
     "text": [
      "plan='Task 1: Create a Single-Page Application\\n- Task Description: Set up a new single-page application using your preferred framework (React, Angular, Vue, etc.). The application should have a basic structure with a header, a main section, and a footer.\\n- Acceptance Criteria: The application runs successfully without errors and displays a blank page with a header, main section, and footer.\\n\\nTask 2: Add Text to Header\\n- Task Description: Add the text \"Hello from the agent-metaverse side! Here is the result of my first experiment:\" to the header of the application.\\n- Acceptance Criteria: The specified text is visible in the header of the application.\\n\\nTask 3: Create a Digital Clock\\n- Task Description: In the main section of the application, create a digital clock that updates every second. The clock should be centrally aligned.\\n- Acceptance Criteria: A digital clock is visible in the main section of the application, updates every second, and is centrally aligned.\\n\\nTask 4: Style the Clock Section\\n- Task Description: Style the div containing the digital clock. The background color should be black and the text color should be white.\\n- Acceptance Criteria: The div containing the digital clock has a black background and the clock text is white.\\n\\nTask 5: Add Text to Footer\\n- Task Description: Add the text \"Powered by synapse labs\" to the footer of the application. The text should be 14px, italic, and black.\\n- Acceptance Criteria: The specified text is visible in the footer of the application, is 14px in size, italic, and black.' tasks=[Task(description='Set up a new single-page application using your preferred framework (React, Angular, Vue, etc.). The application should have a basic structure with a header, a main section, and a footer.', acceptance_criteria='The application runs successfully without errors and displays a blank page with a header, main section, and footer.'), Task(description='Add the text \"Hello from the agent-metaverse side! Here is the result of my first experiment:\" to the header of the application.', acceptance_criteria='The specified text is visible in the header of the application.'), Task(description='In the main section of the application, create a digital clock that updates every second. The clock should be centrally aligned.', acceptance_criteria='A digital clock is visible in the main section of the application, updates every second, and is centrally aligned.'), Task(description='Style the div containing the digital clock. The background color should be black and the text color should be white.', acceptance_criteria='The div containing the digital clock has a black background and the clock text is white.'), Task(description='Add the text \"Powered by synapse labs\" to the footer of the application. The text should be 14px, italic, and black.', acceptance_criteria='The specified text is visible in the footer of the application, is 14px in size, italic, and black.')]\n"
     ]
    }
   ],
   "source": [
    "print(mapped_project_plan)"
   ]
  },
  {
   "cell_type": "code",
   "execution_count": 9,
   "metadata": {},
   "outputs": [
    {
     "data": {
      "text/plain": [
       "AIMessage(content='## Code: App.js (React):\\n```javascript\\nimport React from \\'react\\';\\n\\nconst App = () => {\\n  return (\\n    <div>\\n      <Header />\\n      <Main />\\n      <Footer />\\n    </div>\\n  );\\n};\\n\\nconst Header = () => {\\n  return (\\n    <header>\\n      <h1>Welcome to our Single Page Application</h1>\\n    </header>\\n  );\\n};\\n\\nconst Main = () => {\\n  return (\\n    <main>\\n      <p>This is the main section of our application.</p>\\n    </main>\\n  );\\n};\\n\\nconst Footer = () => {\\n  return (\\n    <footer>\\n      <p>© 2022 Our Company. All rights reserved.</p>\\n    </footer>\\n  );\\n};\\n\\nexport default App;\\n```\\n\\n## Code: index.js (React):\\n```javascript\\nimport React from \\'react\\';\\nimport ReactDOM from \\'react-dom\\';\\nimport App from \\'./App\\';\\n\\nReactDOM.render(\\n  <React.StrictMode>\\n    <App />\\n  </React.StrictMode>,\\n  document.getElementById(\\'root\\')\\n);\\n```\\n\\n## Code: index.html (React):\\n```html\\n<!DOCTYPE html>\\n<html lang=\"en\">\\n  <head>\\n    <meta charset=\"utf-8\" />\\n    <meta name=\"viewport\" content=\"width=device-width, initial-scale=1\" />\\n    <title>Single Page Application</title>\\n  </head>\\n  <body>\\n    <div id=\"root\"></div>\\n  </body>\\n</html>\\n```\\n\\n## Code: App.css (React):\\n```css\\nheader {\\n  background-color: #f5f5f5;\\n  padding: 20px;\\n  text-align: center;\\n}\\n\\nmain {\\n  padding: 20px;\\n  text-align: center;\\n}\\n\\nfooter {\\n  background-color: #f5f5f5;\\n  padding: 20px;\\n  text-align: center;\\n}\\n```\\n\\nPlease note that this is a basic setup for a single-page application using React. You can add more components and styles as per your requirements.')"
      ]
     },
     "execution_count": 9,
     "metadata": {},
     "output_type": "execute_result"
    }
   ],
   "source": [
    "write_code_template = \"\"\"\n",
    "You are a professional engineer with deep knowledge on web development; the main goal is to write code that is clean, elegant, modular, easy to read and maintain\n",
    "ATTENTION: Use '##' to SPLIT SECTIONS, not '#'. Output format carefully referenced \"Format example\".\n",
    "\n",
    "## Code:  Write code with triple quoto, based on the following list and context.\n",
    "1. Do your best to implement THIS ONLY ONE FILE. ONLY USE EXISTING API. IF NO API, IMPLEMENT IT.\n",
    "2. Requirement: Based on the task, implement one following code file, note to return only in code form, your code will be part of the entire project, so please implement complete, reliable, reusable code snippets\n",
    "3. Attention1: If there is any setting, ALWAYS SET A DEFAULT VALUE, ALWAYS USE STRONG TYPE AND EXPLICIT VARIABLE.\n",
    "4. Think before writing: What should be implemented and provided in to fill the given acceptance criteria?\n",
    "\n",
    "-----\n",
    "# Task\n",
    "{task}\n",
    "-----\n",
    "## Format example\n",
    "-----\n",
    "## Code: file.html:\n",
    "```html\n",
    "## html code here...\n",
    "...\n",
    "```\n",
    "-----\n",
    "\"\"\"\n",
    "\n",
    "coding_prompt = ChatPromptTemplate.from_messages([\n",
    "    (\"system\", write_code_template),\n",
    "    (\"human\", \"{task}\")\n",
    "])\n",
    "\n",
    "coding_chain = coding_prompt | model\n",
    "\n",
    "coding_output = coding_chain.invoke({\"task\": mapped_project_plan.tasks[0].description})\n",
    "coding_output"
   ]
  },
  {
   "cell_type": "code",
   "execution_count": 10,
   "metadata": {},
   "outputs": [
    {
     "data": {
      "text/plain": [
       "'## Code: App.js (React):\\n```javascript\\nimport React from \\'react\\';\\n\\nconst App = () => {\\n  return (\\n    <div>\\n      <Header />\\n      <Main />\\n      <Footer />\\n    </div>\\n  );\\n};\\n\\nconst Header = () => {\\n  return (\\n    <header>\\n      <h1>Welcome to our Single Page Application</h1>\\n    </header>\\n  );\\n};\\n\\nconst Main = () => {\\n  return (\\n    <main>\\n      <p>This is the main section of our application.</p>\\n    </main>\\n  );\\n};\\n\\nconst Footer = () => {\\n  return (\\n    <footer>\\n      <p>© 2022 Our Company. All rights reserved.</p>\\n    </footer>\\n  );\\n};\\n\\nexport default App;\\n```\\n\\n## Code: index.js (React):\\n```javascript\\nimport React from \\'react\\';\\nimport ReactDOM from \\'react-dom\\';\\nimport App from \\'./App\\';\\n\\nReactDOM.render(\\n  <React.StrictMode>\\n    <App />\\n  </React.StrictMode>,\\n  document.getElementById(\\'root\\')\\n);\\n```\\n\\n## Code: index.html (React):\\n```html\\n<!DOCTYPE html>\\n<html lang=\"en\">\\n  <head>\\n    <meta charset=\"utf-8\" />\\n    <meta name=\"viewport\" content=\"width=device-width, initial-scale=1\" />\\n    <title>Single Page Application</title>\\n  </head>\\n  <body>\\n    <div id=\"root\"></div>\\n  </body>\\n</html>\\n```\\n\\n## Code: App.css (React):\\n```css\\nheader {\\n  background-color: #f5f5f5;\\n  padding: 20px;\\n  text-align: center;\\n}\\n\\nmain {\\n  padding: 20px;\\n  text-align: center;\\n}\\n\\nfooter {\\n  background-color: #f5f5f5;\\n  padding: 20px;\\n  text-align: center;\\n}\\n```\\n\\nPlease note that this is a basic setup for a single-page application using React. You can add more components and styles as per your requirements.'"
      ]
     },
     "execution_count": 10,
     "metadata": {},
     "output_type": "execute_result"
    }
   ],
   "source": [
    "coding_output.content"
   ]
  },
  {
   "cell_type": "code",
   "execution_count": 11,
   "metadata": {},
   "outputs": [],
   "source": [
    "import re\n",
    "import logging as logger\n",
    "import ast\n",
    "\n",
    "class CodeParser:\n",
    "    @classmethod\n",
    "    def parse_block(cls, block: str, text: str) -> str:\n",
    "        blocks = cls.parse_blocks(text)\n",
    "        for k, v in blocks.items():\n",
    "            if block in k:\n",
    "                return v\n",
    "        return \"\"\n",
    "\n",
    "    @classmethod\n",
    "    def parse_blocks(cls, text: str):\n",
    "        # 首先根据\"##\"将文本分割成不同的block\n",
    "        blocks = text.split(\"##\")\n",
    "\n",
    "        # 创建一个字典，用于存储每个block的标题和内容\n",
    "        block_dict = {}\n",
    "\n",
    "        # 遍历所有的block\n",
    "        for block in blocks:\n",
    "            # 如果block不为空，则继续处理\n",
    "            if block.strip() != \"\":\n",
    "                # 将block的标题和内容分开，并分别去掉前后的空白字符\n",
    "                block_title, block_content = block.split(\"\\n\", 1)\n",
    "                block_dict[block_title.strip()] = block_content.strip()\n",
    "\n",
    "        return block_dict\n",
    "\n",
    "    @classmethod\n",
    "    def parse_code(cls, block: str, text: str, lang: str = \"\") -> str:\n",
    "        if block:\n",
    "            text = cls.parse_block(block, text)\n",
    "        pattern = rf\"```{lang}.*?\\s+(.*?)```\"\n",
    "        match = re.search(pattern, text, re.DOTALL)\n",
    "        if match:\n",
    "            code = match.group(1)\n",
    "        else:\n",
    "            logger.error(f\"{pattern} not match following text:\")\n",
    "            logger.error(text)\n",
    "            # raise Exception\n",
    "            return text  # just assume original text is code\n",
    "        return code\n",
    "\n",
    "    @classmethod\n",
    "    def parse_str(cls, block: str, text: str, lang: str = \"\"):\n",
    "        code = cls.parse_code(block, text, lang)\n",
    "        code = code.split(\"=\")[-1]\n",
    "        code = code.strip().strip(\"'\").strip('\"')\n",
    "        return code\n",
    "\n",
    "    @classmethod\n",
    "    def parse_file_list(cls, block: str, text: str, lang: str = \"\") -> list[str]:\n",
    "        # Regular expression pattern to find the tasks list.\n",
    "        code = cls.parse_code(block, text, lang)\n",
    "        # print(code)\n",
    "        pattern = r\"\\s*(.*=.*)?(\\[.*\\])\"\n",
    "\n",
    "        # Extract tasks list string using regex.\n",
    "        match = re.search(pattern, code, re.DOTALL)\n",
    "        if match:\n",
    "            tasks_list_str = match.group(2)\n",
    "\n",
    "            # Convert string representation of list to a Python list using ast.literal_eval.\n",
    "            tasks = ast.literal_eval(tasks_list_str)\n",
    "        else:\n",
    "            raise Exception\n",
    "        return tasks"
   ]
  },
  {
   "cell_type": "code",
   "execution_count": 12,
   "metadata": {},
   "outputs": [
    {
     "name": "stdout",
     "output_type": "stream",
     "text": [
      "import React from 'react';\n",
      "\n",
      "const App = () => {\n",
      "  return (\n",
      "    <div>\n",
      "      <Header />\n",
      "      <Main />\n",
      "      <Footer />\n",
      "    </div>\n",
      "  );\n",
      "};\n",
      "\n",
      "const Header = () => {\n",
      "  return (\n",
      "    <header>\n",
      "      <h1>Welcome to our Single Page Application</h1>\n",
      "    </header>\n",
      "  );\n",
      "};\n",
      "\n",
      "const Main = () => {\n",
      "  return (\n",
      "    <main>\n",
      "      <p>This is the main section of our application.</p>\n",
      "    </main>\n",
      "  );\n",
      "};\n",
      "\n",
      "const Footer = () => {\n",
      "  return (\n",
      "    <footer>\n",
      "      <p>© 2022 Our Company. All rights reserved.</p>\n",
      "    </footer>\n",
      "  );\n",
      "};\n",
      "\n",
      "export default App;\n",
      "\n"
     ]
    }
   ],
   "source": [
    "code = CodeParser.parse_code(block=\"\", text=coding_output.content)\n",
    "print(code)"
   ]
  },
  {
   "cell_type": "code",
   "execution_count": 13,
   "metadata": {},
   "outputs": [],
   "source": [
    "# Ugly way to extract the file name out of the content, to be improved\n",
    "\n",
    "#print(coding_output.content)\n",
    "# Regular expression to match the file name\n",
    "regex = r\"## Code: (\\S+):\"\n",
    "\n",
    "# Find the match\n",
    "match = re.search(regex, coding_output.content)\n",
    "filename = match.group(1) if match else None\n",
    "filename"
   ]
  },
  {
   "cell_type": "code",
   "execution_count": 18,
   "metadata": {},
   "outputs": [
    {
     "data": {
      "text/plain": [
       "AIMessage(content='## Code Review\\n1. The code is implemented as per the requirements. It sets up a single-page application with a header, main section, and footer.\\n2. There are no issues with the code logic. The components are correctly defined and used.\\n3. The existing code follows the \"Data structures and interface definitions\". It uses functional components which is a common pattern in React.\\n4. There is no function in the code that is omitted or not fully implemented. All components are fully implemented.\\n5. The code does not have unnecessary dependencies. It only imports \\'react\\', which is necessary for the code to run.\\n6. The code matches the acceptance criteria. It runs successfully without errors and displays a blank page with a header, main section, and footer.\\n\\n## Rewrite Code: App.js\\n```js\\nimport React from \\'react\\';\\n\\nconst Header = () => (\\n  <header>\\n    <h1>Welcome to our Single Page Application</h1>\\n  </header>\\n);\\n\\nconst Main = () => (\\n  <main>\\n    <p>This is the main section of our application.</p>\\n  </main>\\n);\\n\\nconst Footer = () => (\\n  <footer>\\n    <p>© 2022 Our Company. All rights reserved.</p>\\n  </footer>\\n);\\n\\nconst App = () => (\\n  <div>\\n    <Header />\\n    <Main />\\n    <Footer />\\n  </div>\\n);\\n\\nexport default App;\\n```\\nIn the rewritten code, I have moved the definition of the `Header`, `Main`, and `Footer` components above the `App` component. This is a good practice as it improves readability and ensures that the components are defined before they are used. Also, I have used implicit return for the functional components which makes the code cleaner and easier to read.')"
      ]
     },
     "execution_count": 18,
     "metadata": {},
     "output_type": "execute_result"
    }
   ],
   "source": [
    "review_code_template = \"\"\"\n",
    "You are a professional software engineer, and your main task is to review the code. You need to ensure that the code is elegantly designed and modularized, easy to read and maintain.\n",
    "ATTENTION: Use '##' to SPLIT SECTIONS, not '#'. Output format carefully referenced \"Format example\".\n",
    "\n",
    "## Code Review: Based on the following context and code, and following the check list, Provide key, clear, concise, and specific code modification suggestions, up to 5.\n",
    "```\n",
    "1. Check 0: Is the code implemented as per the requirements?\n",
    "2. Check 1: Are there any issues with the code logic?\n",
    "3. Check 2: Does the existing code follow the \"Data structures and interface definitions\"?\n",
    "4. Check 3: Is there a function in the code that is omitted or not fully implemented that needs to be implemented?\n",
    "5. Check 4: Does the code have unnecessary or lack dependencies?\n",
    "6. Check 5: Does the code matches the acceptance criteria?\n",
    "```\n",
    "\n",
    "## Rewrite Code: {filename} Base on \"Code Review\" and the source code, rewrite code with triple quotes. Do your utmost to optimize THIS SINGLE FILE. \n",
    "-----\n",
    "# Context\n",
    "Task: {task}\n",
    "Acceptance criteria: {acceptance_criteria}\n",
    "\n",
    "## Code: {filename}\n",
    "```\n",
    "{code}\n",
    "```\n",
    "-----\n",
    "\n",
    "## Format example\n",
    "-----\n",
    "## Code Review\n",
    "1. The code ...\n",
    "2. ...\n",
    "3. ...\n",
    "4. ...\n",
    "5. ...\n",
    "\n",
    "## Rewrite Code: filename\n",
    "```js\n",
    "// code here\n",
    "...\n",
    "```\n",
    "\"\"\"\n",
    "\n",
    "code_review_prompt = ChatPromptTemplate.from_messages([\n",
    "    (\"system\", review_code_template),\n",
    "    (\"human\", \"{task}, {acceptance_criteria}, {filename}, {code}\")\n",
    "])\n",
    "\n",
    "\n",
    "code_review_chain = code_review_prompt | model\n",
    "\n",
    "code_review_output = code_review_chain.invoke({\"task\": mapped_project_plan.tasks[0].description, \"acceptance_criteria\": mapped_project_plan.tasks[0].acceptance_criteria, \"filename\": filename, \"code\": code})\n",
    "code_review_output"
   ]
  },
  {
   "cell_type": "code",
   "execution_count": 19,
   "metadata": {},
   "outputs": [
    {
     "name": "stdout",
     "output_type": "stream",
     "text": [
      "import React from 'react';\n",
      "\n",
      "const Header = () => (\n",
      "  <header>\n",
      "    <h1>Welcome to our Single Page Application</h1>\n",
      "  </header>\n",
      ");\n",
      "\n",
      "const Main = () => (\n",
      "  <main>\n",
      "    <p>This is the main section of our application.</p>\n",
      "  </main>\n",
      ");\n",
      "\n",
      "const Footer = () => (\n",
      "  <footer>\n",
      "    <p>© 2022 Our Company. All rights reserved.</p>\n",
      "  </footer>\n",
      ");\n",
      "\n",
      "const App = () => (\n",
      "  <div>\n",
      "    <Header />\n",
      "    <Main />\n",
      "    <Footer />\n",
      "  </div>\n",
      ");\n",
      "\n",
      "export default App;\n",
      "\n"
     ]
    }
   ],
   "source": [
    "code_review_output = CodeParser.parse_code(block=\"\", text=code_review_output.content)\n",
    "print(code_review_output)"
   ]
  },
  {
   "cell_type": "code",
   "execution_count": 20,
   "metadata": {},
   "outputs": [
    {
     "name": "stderr",
     "output_type": "stream",
     "text": [
      " 20%|██        | 1/5 [00:28<01:54, 28.59s/it]"
     ]
    }
   ],
   "source": [
    "import tqdm\n",
    "\n",
    "memory = None\n",
    "coding_output_history_log = []\n",
    "coding_review_history_log = []\n",
    "\n",
    "for task in tqdm.tqdm(mapped_project_plan.tasks):\n",
    "    if memory is None:\n",
    "        coding_output = coding_chain.invoke({\"task\": task.description})\n",
    "    else:\n",
    "        coding_output = coding_chain.invoke({\"task\": task.description + f'\\nBase code to be evolved: {memory}'})\n",
    "    code = CodeParser.parse_code(block=\"\", text=coding_output.content)\n",
    "        \n",
    "    # Regular expression to match the file name\n",
    "    regex = r\"## Code: (\\S+):\"\n",
    "\n",
    "    # Find the match\n",
    "    match = re.search(regex, coding_output.content)\n",
    "    filename = match.group(1) if match else None\n",
    "\n",
    "    code_review_output = code_review_chain.invoke({\"task\": task.description, \"acceptance_criteria\": task.acceptance_criteria, \"filename\": filename, \"code\": code})\n",
    "    code_review_output = CodeParser.parse_code(block=\"\", text=code_review_output.content)\n",
    "    \n",
    "\n",
    "    coding_output_history_log.append(coding_output)\n",
    "    coding_review_history_log.append(code_review_output)\n",
    "    memory = code_review_output"
   ]
  }
 ],
 "metadata": {
  "kernelspec": {
   "display_name": "agent-subnet",
   "language": "python",
   "name": "python3"
  },
  "language_info": {
   "codemirror_mode": {
    "name": "ipython",
    "version": 3
   },
   "file_extension": ".py",
   "mimetype": "text/x-python",
   "name": "python",
   "nbconvert_exporter": "python",
   "pygments_lexer": "ipython3",
   "version": "3.10.9"
  }
 },
 "nbformat": 4,
 "nbformat_minor": 2
}
