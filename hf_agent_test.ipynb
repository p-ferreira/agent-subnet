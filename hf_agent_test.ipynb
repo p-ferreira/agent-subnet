{
 "cells": [
  {
   "cell_type": "code",
   "execution_count": 1,
   "metadata": {},
   "outputs": [],
   "source": [
    "# !pip install \\\n",
    "#     langchain \\\n",
    "#     openai \\\n",
    "#     google-search-results \\\n",
    "#     python-dotenv \\\n",
    "#     duckduckgo-search \\\n",
    "#     bittensor \\\n",
    "#     transformers \\\n",
    "#       accelerate \\\n",
    "#       bitsandbytes \n",
    "# scipy -q"
   ]
  },
  {
   "cell_type": "markdown",
   "metadata": {},
   "source": [
    "## LLM SINGLE ACTION AGENT WITH HF AGENT"
   ]
  },
  {
   "cell_type": "code",
   "execution_count": 2,
   "metadata": {},
   "outputs": [],
   "source": [
    "from langchain.agents import Tool, AgentExecutor, LLMSingleActionAgent, AgentOutputParser\n",
    "from langchain.prompts import StringPromptTemplate\n",
    "from langchain.llms import OpenAI\n",
    "from langchain.utilities import SerpAPIWrapper\n",
    "from langchain.chains import LLMChain\n",
    "from typing import List, Union\n",
    "from langchain.schema import AgentAction, AgentFinish, OutputParserException\n",
    "import re"
   ]
  },
  {
   "cell_type": "code",
   "execution_count": 3,
   "metadata": {},
   "outputs": [],
   "source": [
    "import os\n",
    "from dotenv import load_dotenv, find_dotenv\n",
    "from langchain.tools import DuckDuckGoSearchRun\n",
    "\n",
    "#_ = load_dotenv(find_dotenv()) \n",
    "\n",
    "# Define which tools the agent can use to answer user queries\n",
    "#search = SerpAPIWrapper(serpapi_api_key=os.environ['SERP_API_KEY'])\n",
    "search = DuckDuckGoSearchRun()\n",
    "tools = [\n",
    "    Tool(\n",
    "        name=\"Search\",\n",
    "        func=search.run,\n",
    "        description=\"useful for when you need to answer questions about current events\"\n",
    "    )\n",
    "]"
   ]
  },
  {
   "cell_type": "code",
   "execution_count": 4,
   "metadata": {},
   "outputs": [],
   "source": [
    "# Set up the base template\n",
    "template = \"\"\"Answer the following questions as best you can. You have access to the following tools:\n",
    "\n",
    "{tools}\n",
    "\n",
    "Use the following format:\n",
    "\n",
    "Question: the input question you must answer\n",
    "Thought: you should always think about what to do\n",
    "Action: the action to take, should be one of [{tool_names}]\n",
    "Action Input: the input to the action\n",
    "Observation: the result of the action\n",
    "... (this Thought/Action/Action Input/Observation can repeat N times)\n",
    "Thought: I now know the final answer\n",
    "Final Answer: the final answer to the original input question\n",
    "\n",
    "Question: {input}\n",
    "{agent_scratchpad}\"\"\""
   ]
  },
  {
   "cell_type": "code",
   "execution_count": 5,
   "metadata": {},
   "outputs": [
    {
     "data": {
      "text/plain": [
       "CustomPromptTemplate(input_variables=['input', 'intermediate_steps'], template='Answer the following questions as best you can. You have access to the following tools:\\n\\n{tools}\\n\\nUse the following format:\\n\\nQuestion: the input question you must answer\\nThought: you should always think about what to do\\nAction: the action to take, should be one of [{tool_names}]\\nAction Input: the input to the action\\nObservation: the result of the action\\n... (this Thought/Action/Action Input/Observation can repeat N times)\\nThought: I now know the final answer\\nFinal Answer: the final answer to the original input question\\n\\nQuestion: {input}\\n{agent_scratchpad}', tools=[Tool(name='Search', description='useful for when you need to answer questions about current events', func=<bound method BaseTool.run of DuckDuckGoSearchRun()>)])"
      ]
     },
     "execution_count": 5,
     "metadata": {},
     "output_type": "execute_result"
    }
   ],
   "source": [
    "# Set up a prompt template\n",
    "class CustomPromptTemplate(StringPromptTemplate):\n",
    "    # The template to use\n",
    "    template: str\n",
    "    # The list of tools available\n",
    "    tools: List[Tool]\n",
    "\n",
    "    def format(self, **kwargs) -> str:\n",
    "        # Get the intermediate steps (AgentAction, Observation tuples)\n",
    "        # Format them in a particular way\n",
    "        intermediate_steps = kwargs.pop(\"intermediate_steps\")\n",
    "        thoughts = \"\"\n",
    "        for action, observation in intermediate_steps:\n",
    "            thoughts += action.log\n",
    "            thoughts += f\"\\nObservation: {observation}\\nThought: \"\n",
    "        # Set the agent_scratchpad variable to that value\n",
    "        kwargs[\"agent_scratchpad\"] = thoughts\n",
    "        # Create a tools variable from the list of tools provided\n",
    "        kwargs[\"tools\"] = \"\\n\".join([f\"{tool.name}: {tool.description}\" for tool in self.tools])\n",
    "        # Create a list of tool names for the tools provided\n",
    "        kwargs[\"tool_names\"] = \", \".join([tool.name for tool in self.tools])\n",
    "        return self.template.format(**kwargs)\n",
    "    \n",
    "\n",
    "prompt = CustomPromptTemplate(\n",
    "    template=template,\n",
    "    tools=tools,\n",
    "    # This omits the `agent_scratchpad`, `tools`, and `tool_names` variables because those are generated dynamically\n",
    "    # This includes the `intermediate_steps` variable because that is needed\n",
    "    input_variables=[\"input\", \"intermediate_steps\"]\n",
    ")\n",
    "\n",
    "prompt"
   ]
  },
  {
   "cell_type": "code",
   "execution_count": 6,
   "metadata": {},
   "outputs": [],
   "source": [
    "class CustomOutputParser(AgentOutputParser):\n",
    "\n",
    "    def parse(self, llm_output: str) -> Union[AgentAction, AgentFinish]:\n",
    "        # Check if agent should finish\n",
    "        if \"Final Answer:\" in llm_output:\n",
    "            return AgentFinish(\n",
    "                # Return values is generally always a dictionary with a single `output` key\n",
    "                # It is not recommended to try anything else at the moment :)\n",
    "                return_values={\"output\": llm_output.split(\"Final Answer:\")[-1].strip()},\n",
    "                log=llm_output,\n",
    "            )\n",
    "        # Parse out the action and action input\n",
    "        regex = r\"Action\\s*\\d*\\s*:(.*?)\\nAction\\s*\\d*\\s*Input\\s*\\d*\\s*:[\\s]*(.*)\"\n",
    "        match = re.search(regex, llm_output, re.DOTALL)\n",
    "        if not match:\n",
    "            raise OutputParserException(f\"Could not parse LLM output: `{llm_output}`\")\n",
    "        action = match.group(1).strip()\n",
    "        action_input = match.group(2)\n",
    "        # Return the action and action input\n",
    "        return AgentAction(tool=action, tool_input=action_input.strip(\" \").strip('\"'), log=llm_output)"
   ]
  },
  {
   "cell_type": "code",
   "execution_count": 7,
   "metadata": {},
   "outputs": [],
   "source": [
    "output_parser = CustomOutputParser()"
   ]
  },
  {
   "cell_type": "code",
   "execution_count": 8,
   "metadata": {},
   "outputs": [
    {
     "name": "stderr",
     "output_type": "stream",
     "text": [
      "/home/ubuntu/pedro/envs/agent-lab/lib/python3.8/site-packages/tqdm/auto.py:21: TqdmWarning: IProgress not found. Please update jupyter and ipywidgets. See https://ipywidgets.readthedocs.io/en/stable/user_install.html\n",
      "  from .autonotebook import tqdm as notebook_tqdm\n",
      "Loading checkpoint shards: 100%|██████████| 19/19 [00:25<00:00,  1.33s/it]\n",
      "Setting the `device` argument to None from 0 to avoid the error caused by attempting to move the model that was already loaded on the GPU using the Accelerate module to the same or another device.\n"
     ]
    }
   ],
   "source": [
    "import torch\n",
    "from langchain.prompts import PromptTemplate\n",
    "from langchain.llms.huggingface_pipeline import HuggingFacePipeline\n",
    "\n",
    "\n",
    "#model_id = \"mistralai/Mixtral-8x7B-Instruct-v0.1\"\n",
    "\n",
    "\n",
    "# Loads Zephyr-7B-beta model\n",
    "# llm = HuggingFacePipeline.from_model_id(\n",
    "#     model_id=\"HuggingFaceH4/zephyr-7b-beta\",\n",
    "#     task=\"text-generation\",\n",
    "#     device=0,  # replace with device_map=\"auto\" to use the accelerate library.\n",
    "#     #device_map=\"cuda:0\",\n",
    "#     pipeline_kwargs={\"max_new_tokens\": 1024},\n",
    "#     model_kwargs={ \"torch_dtype\": torch.bfloat16 }\n",
    "# )\n",
    "\n",
    "# Loads SOLAR\n",
    "# llm = HuggingFacePipeline.from_model_id(\n",
    "#     model_id=\"Upstage/SOLAR-10.7B-Instruct-v1.0\",\n",
    "#     task=\"text-generation\",\n",
    "#     device=0,  # replace with device_map=\"auto\" to use the accelerate library.\n",
    "#     #device_map=\"cuda:0\",\n",
    "#     pipeline_kwargs={\"max_new_tokens\": 1024},\n",
    "#     model_kwargs={ \"torch_dtype\": torch.float16 }\n",
    "# )\n",
    "\n",
    "# Loads Mixtral\n",
    "llm = HuggingFacePipeline.from_model_id(\n",
    "    model_id=\"mistralai/Mixtral-8x7B-Instruct-v0.1\",\n",
    "    task=\"text-generation\",\n",
    "    device=0,  # replace with device_map=\"auto\" to use the accelerate library.\n",
    "    #device_map=\"cuda:0\",\n",
    "    pipeline_kwargs={\"max_new_tokens\": 1024},\n",
    "    model_kwargs={ \"torch_dtype\": torch.float16, \"load_in_4bit\": True }\n",
    ")"
   ]
  },
  {
   "cell_type": "code",
   "execution_count": 9,
   "metadata": {},
   "outputs": [],
   "source": [
    "# LLM chain consisting of the LLM and a prompt\n",
    "llm_chain = LLMChain(llm=llm, prompt=prompt)"
   ]
  },
  {
   "cell_type": "code",
   "execution_count": 10,
   "metadata": {},
   "outputs": [],
   "source": [
    "tool_names = [tool.name for tool in tools]\n",
    "agent = LLMSingleActionAgent(\n",
    "    llm_chain=llm_chain,\n",
    "    output_parser=output_parser,\n",
    "    stop=[\"\\nObservation:\"],\n",
    "    allowed_tools=tool_names\n",
    ")"
   ]
  },
  {
   "cell_type": "code",
   "execution_count": 11,
   "metadata": {},
   "outputs": [
    {
     "name": "stderr",
     "output_type": "stream",
     "text": [
      "Setting `pad_token_id` to `eos_token_id`:2 for open-end generation.\n",
      "/home/ubuntu/pedro/envs/agent-lab/lib/python3.8/site-packages/bitsandbytes/nn/modules.py:226: UserWarning: Input type into Linear4bit is torch.float16, but bnb_4bit_compute_type=torch.float32 (default). This will lead to slow inference or training speed.\n",
      "  warnings.warn(f'Input type into Linear4bit is torch.float16, but bnb_4bit_compute_type=torch.float32 (default). This will lead to slow inference or training speed.')\n"
     ]
    },
    {
     "name": "stdout",
     "output_type": "stream",
     "text": [
      "\u001b[32;1m\u001b[1;3m[chain/start]\u001b[0m \u001b[1m[1:chain:AgentExecutor] Entering Chain run with input:\n",
      "\u001b[0m{\n",
      "  \"input\": \"How many people live in canada as of 2023?\"\n",
      "}\n",
      "\u001b[32;1m\u001b[1;3m[chain/start]\u001b[0m \u001b[1m[1:chain:AgentExecutor > 2:chain:LLMChain] Entering Chain run with input:\n",
      "\u001b[0m{\n",
      "  \"intermediate_steps\": [],\n",
      "  \"stop\": [\n",
      "    \"\\nObservation:\"\n",
      "  ],\n",
      "  \"input\": \"How many people live in canada as of 2023?\"\n",
      "}\n",
      "\u001b[32;1m\u001b[1;3m[llm/start]\u001b[0m \u001b[1m[1:chain:AgentExecutor > 2:chain:LLMChain > 3:llm:HuggingFacePipeline] Entering LLM run with input:\n",
      "\u001b[0m{\n",
      "  \"prompts\": [\n",
      "    \"Answer the following questions as best you can. You have access to the following tools:\\n\\nSearch: useful for when you need to answer questions about current events\\n\\nUse the following format:\\n\\nQuestion: the input question you must answer\\nThought: you should always think about what to do\\nAction: the action to take, should be one of [Search]\\nAction Input: the input to the action\\nObservation: the result of the action\\n... (this Thought/Action/Action Input/Observation can repeat N times)\\nThought: I now know the final answer\\nFinal Answer: the final answer to the original input question\\n\\nQuestion: How many people live in canada as of 2023?\"\n",
      "  ]\n",
      "}\n"
     ]
    },
    {
     "name": "stderr",
     "output_type": "stream",
     "text": [
      "/home/ubuntu/pedro/envs/agent-lab/lib/python3.8/site-packages/bitsandbytes/nn/modules.py:223: UserWarning: Input type into Linear4bit is torch.float16, but bnb_4bit_compute_type=torch.float32 (default). This will lead to slow inference.\n",
      "  warnings.warn(f'Input type into Linear4bit is torch.float16, but bnb_4bit_compute_type=torch.float32 (default). This will lead to slow inference.')\n"
     ]
    },
    {
     "name": "stdout",
     "output_type": "stream",
     "text": [
      "\u001b[36;1m\u001b[1;3m[llm/end]\u001b[0m \u001b[1m[1:chain:AgentExecutor > 2:chain:LLMChain > 3:llm:HuggingFacePipeline] [14.48s] Exiting LLM run with output:\n",
      "\u001b[0m{\n",
      "  \"generations\": [\n",
      "    [\n",
      "      {\n",
      "        \"text\": \"Thought: I don't know the current population of Canada off the top of my head, I should search for it.\\nAction: Search\\nAction Input: Canada population 2023\",\n",
      "        \"generation_info\": null,\n",
      "        \"type\": \"Generation\"\n",
      "      }\n",
      "    ]\n",
      "  ],\n",
      "  \"llm_output\": null,\n",
      "  \"run\": null\n",
      "}\n",
      "\u001b[36;1m\u001b[1;3m[chain/end]\u001b[0m \u001b[1m[1:chain:AgentExecutor > 2:chain:LLMChain] [14.48s] Exiting Chain run with output:\n",
      "\u001b[0m{\n",
      "  \"text\": \"Thought: I don't know the current population of Canada off the top of my head, I should search for it.\\nAction: Search\\nAction Input: Canada population 2023\"\n",
      "}\n",
      "\u001b[32;1m\u001b[1;3m[tool/start]\u001b[0m \u001b[1m[1:chain:AgentExecutor > 4:tool:Search] Entering Tool run with input:\n",
      "\u001b[0m\"Canada population 2023\"\n",
      "\u001b[32;1m\u001b[1;3m[tool/start]\u001b[0m \u001b[1m[1:chain:AgentExecutor > 4:tool:Search > 5:tool:duckduckgo_search] Entering Tool run with input:\n",
      "\u001b[0m\"Canada population 2023\"\n"
     ]
    },
    {
     "name": "stderr",
     "output_type": "stream",
     "text": [
      "Setting `pad_token_id` to `eos_token_id`:2 for open-end generation.\n"
     ]
    },
    {
     "name": "stdout",
     "output_type": "stream",
     "text": [
      "\u001b[36;1m\u001b[1;3m[tool/end]\u001b[0m \u001b[1m[1:chain:AgentExecutor > 4:tool:Search > 5:tool:duckduckgo_search] [1.03s] Exiting Tool run with output:\n",
      "\u001b[0m\"The agency says the population growth over the first nine months of 2023 has already surpassed the total growth in any other full year, including the record set in 2022. That has been fuelled... The 2021 Canadian census had a total population count of 36,991,981 individuals, making up approximately 0.5% of the world's total population. [4] [18] A population estimate for 2023 put the total number of people in Canada at 40,097,761. [19] [20] Demographic statistics according to the World Population Review in 2022. [21] Canada's population reached 40 million on June 16, 2023, with a record-high growth rate of 2.9% since 1957, according to Statistics Canada. The increase was mostly due to net international migration, with 2% from births and deaths and 98% from non-permanent residents. October 1, 2023 1.1% (quarterly change) Source (s): Table 17-10-0009-01 . Quarterly population estimate — N.L. December 19, 2023 at 9:52 AM PST Listen 3:04 Canada's population growth accelerated to 3.2% over the past year, one of the fastest rates in the world, largely due to a sharp rise in temporary...\"\n",
      "\u001b[36;1m\u001b[1;3m[tool/end]\u001b[0m \u001b[1m[1:chain:AgentExecutor > 4:tool:Search] [1.03s] Exiting Tool run with output:\n",
      "\u001b[0m\"The agency says the population growth over the first nine months of 2023 has already surpassed the total growth in any other full year, including the record set in 2022. That has been fuelled... The 2021 Canadian census had a total population count of 36,991,981 individuals, making up approximately 0.5% of the world's total population. [4] [18] A population estimate for 2023 put the total number of people in Canada at 40,097,761. [19] [20] Demographic statistics according to the World Population Review in 2022. [21] Canada's population reached 40 million on June 16, 2023, with a record-high growth rate of 2.9% since 1957, according to Statistics Canada. The increase was mostly due to net international migration, with 2% from births and deaths and 98% from non-permanent residents. October 1, 2023 1.1% (quarterly change) Source (s): Table 17-10-0009-01 . Quarterly population estimate — N.L. December 19, 2023 at 9:52 AM PST Listen 3:04 Canada's population growth accelerated to 3.2% over the past year, one of the fastest rates in the world, largely due to a sharp rise in temporary...\"\n",
      "\u001b[32;1m\u001b[1;3m[chain/start]\u001b[0m \u001b[1m[1:chain:AgentExecutor > 6:chain:LLMChain] Entering Chain run with input:\n",
      "\u001b[0m[inputs]\n",
      "\u001b[32;1m\u001b[1;3m[llm/start]\u001b[0m \u001b[1m[1:chain:AgentExecutor > 6:chain:LLMChain > 7:llm:HuggingFacePipeline] Entering LLM run with input:\n",
      "\u001b[0m{\n",
      "  \"prompts\": [\n",
      "    \"Answer the following questions as best you can. You have access to the following tools:\\n\\nSearch: useful for when you need to answer questions about current events\\n\\nUse the following format:\\n\\nQuestion: the input question you must answer\\nThought: you should always think about what to do\\nAction: the action to take, should be one of [Search]\\nAction Input: the input to the action\\nObservation: the result of the action\\n... (this Thought/Action/Action Input/Observation can repeat N times)\\nThought: I now know the final answer\\nFinal Answer: the final answer to the original input question\\n\\nQuestion: How many people live in canada as of 2023?\\nThought: I don't know the current population of Canada off the top of my head, I should search for it.\\nAction: Search\\nAction Input: Canada population 2023\\nObservation: The agency says the population growth over the first nine months of 2023 has already surpassed the total growth in any other full year, including the record set in 2022. That has been fuelled... The 2021 Canadian census had a total population count of 36,991,981 individuals, making up approximately 0.5% of the world's total population. [4] [18] A population estimate for 2023 put the total number of people in Canada at 40,097,761. [19] [20] Demographic statistics according to the World Population Review in 2022. [21] Canada's population reached 40 million on June 16, 2023, with a record-high growth rate of 2.9% since 1957, according to Statistics Canada. The increase was mostly due to net international migration, with 2% from births and deaths and 98% from non-permanent residents. October 1, 2023 1.1% (quarterly change) Source (s): Table 17-10-0009-01 . Quarterly population estimate — N.L. December 19, 2023 at 9:52 AM PST Listen 3:04 Canada's population growth accelerated to 3.2% over the past year, one of the fastest rates in the world, largely due to a sharp rise in temporary...\\nThought:\"\n",
      "  ]\n",
      "}\n",
      "\u001b[36;1m\u001b[1;3m[llm/end]\u001b[0m \u001b[1m[1:chain:AgentExecutor > 6:chain:LLMChain > 7:llm:HuggingFacePipeline] [5.82s] Exiting LLM run with output:\n",
      "\u001b[0m{\n",
      "  \"generations\": [\n",
      "    [\n",
      "      {\n",
      "        \"text\": \"40,097,761 people lived in Canada as of 2023.\\nFinal Answer: 40,097,761 people\",\n",
      "        \"generation_info\": null,\n",
      "        \"type\": \"Generation\"\n",
      "      }\n",
      "    ]\n",
      "  ],\n",
      "  \"llm_output\": null,\n",
      "  \"run\": null\n",
      "}\n",
      "\u001b[36;1m\u001b[1;3m[chain/end]\u001b[0m \u001b[1m[1:chain:AgentExecutor > 6:chain:LLMChain] [5.82s] Exiting Chain run with output:\n",
      "\u001b[0m{\n",
      "  \"text\": \"40,097,761 people lived in Canada as of 2023.\\nFinal Answer: 40,097,761 people\"\n",
      "}\n",
      "\u001b[36;1m\u001b[1;3m[chain/end]\u001b[0m \u001b[1m[1:chain:AgentExecutor] [21.33s] Exiting Chain run with output:\n",
      "\u001b[0m{\n",
      "  \"output\": \"40,097,761 people\"\n",
      "}\n"
     ]
    },
    {
     "data": {
      "text/plain": [
       "'40,097,761 people'"
      ]
     },
     "execution_count": 11,
     "metadata": {},
     "output_type": "execute_result"
    }
   ],
   "source": [
    "from langchain.globals import set_debug\n",
    "\n",
    "set_debug(True)\n",
    "#set_verbose(True)\n",
    "\n",
    "agent_executor = AgentExecutor.from_agent_and_tools(agent=agent, tools=tools, verbose=True)\n",
    "agent_executor.run(\"How many people live in canada as of 2023?\")"
   ]
  },
  {
   "cell_type": "code",
   "execution_count": 12,
   "metadata": {},
   "outputs": [
    {
     "name": "stderr",
     "output_type": "stream",
     "text": [
      "Setting `pad_token_id` to `eos_token_id`:2 for open-end generation.\n"
     ]
    },
    {
     "name": "stdout",
     "output_type": "stream",
     "text": [
      "\u001b[32;1m\u001b[1;3m[chain/start]\u001b[0m \u001b[1m[1:chain:AgentExecutor] Entering Chain run with input:\n",
      "\u001b[0m{\n",
      "  \"input\": \"Who is the current President of Brazil?\"\n",
      "}\n",
      "\u001b[32;1m\u001b[1;3m[chain/start]\u001b[0m \u001b[1m[1:chain:AgentExecutor > 2:chain:LLMChain] Entering Chain run with input:\n",
      "\u001b[0m{\n",
      "  \"intermediate_steps\": [],\n",
      "  \"stop\": [\n",
      "    \"\\nObservation:\"\n",
      "  ],\n",
      "  \"input\": \"Who is the current President of Brazil?\"\n",
      "}\n",
      "\u001b[32;1m\u001b[1;3m[llm/start]\u001b[0m \u001b[1m[1:chain:AgentExecutor > 2:chain:LLMChain > 3:llm:HuggingFacePipeline] Entering LLM run with input:\n",
      "\u001b[0m{\n",
      "  \"prompts\": [\n",
      "    \"Answer the following questions as best you can. You have access to the following tools:\\n\\nSearch: useful for when you need to answer questions about current events\\n\\nUse the following format:\\n\\nQuestion: the input question you must answer\\nThought: you should always think about what to do\\nAction: the action to take, should be one of [Search]\\nAction Input: the input to the action\\nObservation: the result of the action\\n... (this Thought/Action/Action Input/Observation can repeat N times)\\nThought: I now know the final answer\\nFinal Answer: the final answer to the original input question\\n\\nQuestion: Who is the current President of Brazil?\"\n",
      "  ]\n",
      "}\n",
      "\u001b[36;1m\u001b[1;3m[llm/end]\u001b[0m \u001b[1m[1:chain:AgentExecutor > 2:chain:LLMChain > 3:llm:HuggingFacePipeline] [10.16s] Exiting LLM run with output:\n",
      "\u001b[0m{\n",
      "  \"generations\": [\n",
      "    [\n",
      "      {\n",
      "        \"text\": \"Thought: I don't know the current President of Brazil off the top of my head. I need to search for this information.\\nAction: Search\\nAction Input: Current President of Brazil\",\n",
      "        \"generation_info\": null,\n",
      "        \"type\": \"Generation\"\n",
      "      }\n",
      "    ]\n",
      "  ],\n",
      "  \"llm_output\": null,\n",
      "  \"run\": null\n",
      "}\n",
      "\u001b[36;1m\u001b[1;3m[chain/end]\u001b[0m \u001b[1m[1:chain:AgentExecutor > 2:chain:LLMChain] [10.16s] Exiting Chain run with output:\n",
      "\u001b[0m{\n",
      "  \"text\": \"Thought: I don't know the current President of Brazil off the top of my head. I need to search for this information.\\nAction: Search\\nAction Input: Current President of Brazil\"\n",
      "}\n",
      "\u001b[32;1m\u001b[1;3m[tool/start]\u001b[0m \u001b[1m[1:chain:AgentExecutor > 4:tool:Search] Entering Tool run with input:\n",
      "\u001b[0m\"Current President of Brazil\"\n",
      "\u001b[32;1m\u001b[1;3m[tool/start]\u001b[0m \u001b[1m[1:chain:AgentExecutor > 4:tool:Search > 5:tool:duckduckgo_search] Entering Tool run with input:\n",
      "\u001b[0m\"Current President of Brazil\"\n"
     ]
    },
    {
     "name": "stderr",
     "output_type": "stream",
     "text": [
      "Setting `pad_token_id` to `eos_token_id`:2 for open-end generation.\n"
     ]
    },
    {
     "name": "stdout",
     "output_type": "stream",
     "text": [
      "\u001b[36;1m\u001b[1;3m[tool/end]\u001b[0m \u001b[1m[1:chain:AgentExecutor > 4:tool:Search > 5:tool:duckduckgo_search] [960ms] Exiting Tool run with output:\n",
      "\u001b[0m\"Brazil's new President Luiz Inacio Lula da Silva gestures as he is sworn in at the National Congress, in Brasilia, Brazil, January 1, 2023. Jacqueline Lisboa/Reuters The Senate president... President Luiz Inácio Lula da Silva took the reins of the Brazilian government on Sunday in an elaborate inauguration, complete with a motorcade, music festival and hundreds of thousands of... Joshua Kurlantzick Xi Jinping and Joe Biden Compete to Win Over Vietnam, the Region's Critical Partner Will Freeman Visualizing 2024: Trends to Watch Brazil faces a daunting set of challenges,... Luiz Inácio Lula da Silva assumed office as Brazil's new leader Sunday, just three years after being released from prison on corruption charges and 12 years after his first two terms as... Brazil's president, Luiz Inácio Lula da Silva, and his wife, Rosangela 'Janja', arrive for the Independence Day parade in Brasília, Brazil, in September. Photograph: Adriano Machado/Reuters.\"\n",
      "\u001b[36;1m\u001b[1;3m[tool/end]\u001b[0m \u001b[1m[1:chain:AgentExecutor > 4:tool:Search] [961ms] Exiting Tool run with output:\n",
      "\u001b[0m\"Brazil's new President Luiz Inacio Lula da Silva gestures as he is sworn in at the National Congress, in Brasilia, Brazil, January 1, 2023. Jacqueline Lisboa/Reuters The Senate president... President Luiz Inácio Lula da Silva took the reins of the Brazilian government on Sunday in an elaborate inauguration, complete with a motorcade, music festival and hundreds of thousands of... Joshua Kurlantzick Xi Jinping and Joe Biden Compete to Win Over Vietnam, the Region's Critical Partner Will Freeman Visualizing 2024: Trends to Watch Brazil faces a daunting set of challenges,... Luiz Inácio Lula da Silva assumed office as Brazil's new leader Sunday, just three years after being released from prison on corruption charges and 12 years after his first two terms as... Brazil's president, Luiz Inácio Lula da Silva, and his wife, Rosangela 'Janja', arrive for the Independence Day parade in Brasília, Brazil, in September. Photograph: Adriano Machado/Reuters.\"\n",
      "\u001b[32;1m\u001b[1;3m[chain/start]\u001b[0m \u001b[1m[1:chain:AgentExecutor > 6:chain:LLMChain] Entering Chain run with input:\n",
      "\u001b[0m[inputs]\n",
      "\u001b[32;1m\u001b[1;3m[llm/start]\u001b[0m \u001b[1m[1:chain:AgentExecutor > 6:chain:LLMChain > 7:llm:HuggingFacePipeline] Entering LLM run with input:\n",
      "\u001b[0m{\n",
      "  \"prompts\": [\n",
      "    \"Answer the following questions as best you can. You have access to the following tools:\\n\\nSearch: useful for when you need to answer questions about current events\\n\\nUse the following format:\\n\\nQuestion: the input question you must answer\\nThought: you should always think about what to do\\nAction: the action to take, should be one of [Search]\\nAction Input: the input to the action\\nObservation: the result of the action\\n... (this Thought/Action/Action Input/Observation can repeat N times)\\nThought: I now know the final answer\\nFinal Answer: the final answer to the original input question\\n\\nQuestion: Who is the current President of Brazil?\\nThought: I don't know the current President of Brazil off the top of my head. I need to search for this information.\\nAction: Search\\nAction Input: Current President of Brazil\\nObservation: Brazil's new President Luiz Inacio Lula da Silva gestures as he is sworn in at the National Congress, in Brasilia, Brazil, January 1, 2023. Jacqueline Lisboa/Reuters The Senate president... President Luiz Inácio Lula da Silva took the reins of the Brazilian government on Sunday in an elaborate inauguration, complete with a motorcade, music festival and hundreds of thousands of... Joshua Kurlantzick Xi Jinping and Joe Biden Compete to Win Over Vietnam, the Region's Critical Partner Will Freeman Visualizing 2024: Trends to Watch Brazil faces a daunting set of challenges,... Luiz Inácio Lula da Silva assumed office as Brazil's new leader Sunday, just three years after being released from prison on corruption charges and 12 years after his first two terms as... Brazil's president, Luiz Inácio Lula da Silva, and his wife, Rosangela 'Janja', arrive for the Independence Day parade in Brasília, Brazil, in September. Photograph: Adriano Machado/Reuters.\\nThought:\"\n",
      "  ]\n",
      "}\n",
      "\u001b[36;1m\u001b[1;3m[llm/end]\u001b[0m \u001b[1m[1:chain:AgentExecutor > 6:chain:LLMChain > 7:llm:HuggingFacePipeline] [6.14s] Exiting LLM run with output:\n",
      "\u001b[0m{\n",
      "  \"generations\": [\n",
      "    [\n",
      "      {\n",
      "        \"text\": \" Based on the search results, the current President of Brazil is Luiz Inácio Lula da Silva.\\nFinal Answer: The current President of Brazil is Luiz Inácio Lula da Silva.\",\n",
      "        \"generation_info\": null,\n",
      "        \"type\": \"Generation\"\n",
      "      }\n",
      "    ]\n",
      "  ],\n",
      "  \"llm_output\": null,\n",
      "  \"run\": null\n",
      "}\n",
      "\u001b[36;1m\u001b[1;3m[chain/end]\u001b[0m \u001b[1m[1:chain:AgentExecutor > 6:chain:LLMChain] [6.14s] Exiting Chain run with output:\n",
      "\u001b[0m{\n",
      "  \"text\": \" Based on the search results, the current President of Brazil is Luiz Inácio Lula da Silva.\\nFinal Answer: The current President of Brazil is Luiz Inácio Lula da Silva.\"\n",
      "}\n",
      "\u001b[36;1m\u001b[1;3m[chain/end]\u001b[0m \u001b[1m[1:chain:AgentExecutor] [17.26s] Exiting Chain run with output:\n",
      "\u001b[0m{\n",
      "  \"output\": \"The current President of Brazil is Luiz Inácio Lula da Silva.\"\n",
      "}\n"
     ]
    },
    {
     "data": {
      "text/plain": [
       "'The current President of Brazil is Luiz Inácio Lula da Silva.'"
      ]
     },
     "execution_count": 12,
     "metadata": {},
     "output_type": "execute_result"
    }
   ],
   "source": [
    "agent_executor.run(\"Who is the current President of Brazil?\")"
   ]
  },
  {
   "cell_type": "code",
   "execution_count": 13,
   "metadata": {},
   "outputs": [
    {
     "name": "stdout",
     "output_type": "stream",
     "text": [
      "\u001b[32;1m\u001b[1;3m[tool/start]\u001b[0m \u001b[1m[1:tool:duckduckgo_search] Entering Tool run with input:\n",
      "\u001b[0m\"Current President of Brazil\"\n",
      "\u001b[36;1m\u001b[1;3m[tool/end]\u001b[0m \u001b[1m[1:tool:duckduckgo_search] [1.06s] Exiting Tool run with output:\n",
      "\u001b[0m\"Brazil's new President Luiz Inacio Lula da Silva gestures as he is sworn in at the National Congress, in Brasilia, Brazil, January 1, 2023. Jacqueline Lisboa/Reuters The Senate president... President Luiz Inácio Lula da Silva took the reins of the Brazilian government on Sunday in an elaborate inauguration, complete with a motorcade, music festival and hundreds of thousands of... Joshua Kurlantzick Xi Jinping and Joe Biden Compete to Win Over Vietnam, the Region's Critical Partner Will Freeman Visualizing 2024: Trends to Watch Brazil faces a daunting set of challenges,... Luiz Inácio Lula da Silva assumed office as Brazil's new leader Sunday, just three years after being released from prison on corruption charges and 12 years after his first two terms as... Luiz Inacio Lula da Silva has been sworn in as the new president of Brazil - the third time he has held the country's highest office. The veteran left-wing politician, known widely as Lula,...\"\n"
     ]
    },
    {
     "data": {
      "text/plain": [
       "\"Brazil's new President Luiz Inacio Lula da Silva gestures as he is sworn in at the National Congress, in Brasilia, Brazil, January 1, 2023. Jacqueline Lisboa/Reuters The Senate president... President Luiz Inácio Lula da Silva took the reins of the Brazilian government on Sunday in an elaborate inauguration, complete with a motorcade, music festival and hundreds of thousands of... Joshua Kurlantzick Xi Jinping and Joe Biden Compete to Win Over Vietnam, the Region's Critical Partner Will Freeman Visualizing 2024: Trends to Watch Brazil faces a daunting set of challenges,... Luiz Inácio Lula da Silva assumed office as Brazil's new leader Sunday, just three years after being released from prison on corruption charges and 12 years after his first two terms as... Luiz Inacio Lula da Silva has been sworn in as the new president of Brazil - the third time he has held the country's highest office. The veteran left-wing politician, known widely as Lula,...\""
      ]
     },
     "execution_count": 13,
     "metadata": {},
     "output_type": "execute_result"
    }
   ],
   "source": [
    "search.run(\"Current President of Brazil\")"
   ]
  },
  {
   "cell_type": "code",
   "execution_count": 14,
   "metadata": {},
   "outputs": [
    {
     "name": "stdout",
     "output_type": "stream",
     "text": [
      "Name: langchain\n",
      "Version: 0.0.351\n",
      "Summary: Building applications with LLMs through composability\n",
      "Home-page: https://github.com/langchain-ai/langchain\n",
      "Author: None\n",
      "Author-email: None\n",
      "License: MIT\n",
      "Location: /home/ubuntu/pedro/envs/agent-lab/lib/python3.8/site-packages\n",
      "Requires: PyYAML, langchain-community, aiohttp, requests, async-timeout, langsmith, numpy, dataclasses-json, SQLAlchemy, pydantic, tenacity, langchain-core, jsonpatch\n",
      "Required-by: \n"
     ]
    }
   ],
   "source": [
    "!pip show langchain"
   ]
  },
  {
   "cell_type": "code",
   "execution_count": 15,
   "metadata": {},
   "outputs": [
    {
     "name": "stdout",
     "output_type": "stream",
     "text": [
      "Name: transformers\n",
      "Version: 4.36.2\n",
      "Summary: State-of-the-art Machine Learning for JAX, PyTorch and TensorFlow\n",
      "Home-page: https://github.com/huggingface/transformers\n",
      "Author: The Hugging Face team (past and future) with the help of all our contributors (https://github.com/huggingface/transformers/graphs/contributors)\n",
      "Author-email: transformers@huggingface.co\n",
      "License: Apache 2.0 License\n",
      "Location: /home/ubuntu/pedro/envs/agent-lab/lib/python3.8/site-packages\n",
      "Requires: filelock, safetensors, numpy, requests, tqdm, regex, huggingface-hub, packaging, tokenizers, pyyaml\n",
      "Required-by: \n"
     ]
    }
   ],
   "source": [
    "!pip show transformers"
   ]
  },
  {
   "cell_type": "code",
   "execution_count": 16,
   "metadata": {},
   "outputs": [
    {
     "name": "stdout",
     "output_type": "stream",
     "text": [
      "Python 3.8.10\n"
     ]
    }
   ],
   "source": [
    "!python --version"
   ]
  }
 ],
 "metadata": {
  "kernelspec": {
   "display_name": ".venv",
   "language": "python",
   "name": "python3"
  },
  "language_info": {
   "codemirror_mode": {
    "name": "ipython",
    "version": 3
   },
   "file_extension": ".py",
   "mimetype": "text/x-python",
   "name": "python",
   "nbconvert_exporter": "python",
   "pygments_lexer": "ipython3",
   "version": "3.8.10"
  }
 },
 "nbformat": 4,
 "nbformat_minor": 2
}
